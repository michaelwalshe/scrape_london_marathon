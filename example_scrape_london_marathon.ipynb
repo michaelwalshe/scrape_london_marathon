{
 "cells": [
  {
   "cell_type": "code",
   "execution_count": 1,
   "metadata": {},
   "outputs": [],
   "source": [
    "# Setting up required libraries\n",
    "import pandas as pd\n",
    "import numpy as np\n",
    "import requests\n",
    "from bs4 import BeautifulSoup"
   ]
  },
  {
   "cell_type": "code",
   "execution_count": 2,
   "metadata": {},
   "outputs": [],
   "source": [
    "# Connect to website to be scraped, and get all html\n",
    "url1='https://results.virginmoneylondonmarathon.com/2020/?page='\n",
    "url2='&event=ALL&num_results=1000&pid=search&pidp=results_nav&search%5Bsex%5D='\n",
    "url3='&search%5Bage_class%5D=%25&search%5Bnation%5D=%25&search_sort=name'\n",
    "\n",
    "#Get results for men, 878 pages of results <-There is no search option for other gender/sex\n",
    "mens_results = pd.DataFrame()\n",
    "for i in range(22):\n",
    "    sex='M'\n",
    "    website_url=requests.get(url1+str(i)+url2+sex+url3).text\n",
    "    soup = BeautifulSoup(website_url,'lxml')\n",
    "\n",
    "    fields = soup.find(class_='section-main')\n",
    "\n",
    "    my_table = []\n",
    "    for row in fields.findAll(class_='list-group-item'):\n",
    "        row_data = []\n",
    "        for cell in row.findAll(class_='list-field'):\n",
    "            row_data.append(cell.text)\n",
    "\n",
    "        if(len(row_data) > 0):\n",
    "            data_item = {\"Place (Overall)\": row_data[0],\n",
    "                         \"Place (Gender)\": row_data[1],\n",
    "                         \"Place (Category)\": row_data[2],\n",
    "                         \"Name\": row_data[3],\n",
    "                         \"Sex\": sex,\n",
    "                         \"Club\": row_data[4],\n",
    "                         \"Running Number\": row_data[5],\n",
    "                         \"Category\": row_data[6],\n",
    "                         \"Finish\": row_data[7],\n",
    "            }\n",
    "            my_table.append(data_item)\n",
    "\n",
    "    df = pd.DataFrame(my_table).iloc[1:]\n",
    "    \n",
    "    mens_results = mens_results.append(df)"
   ]
  },
  {
   "cell_type": "code",
   "execution_count": 3,
   "metadata": {},
   "outputs": [],
   "source": [
    "#Get results for women\n",
    "womens_results = pd.DataFrame()\n",
    "\n",
    "for i in range(22):\n",
    "    sex='F'\n",
    "    website_url=requests.get(url1+str(i)+url2+sex+url3).text\n",
    "    soup = BeautifulSoup(website_url,'lxml')\n",
    "\n",
    "    fields = soup.find(class_='section-main')\n",
    "\n",
    "    my_table = []\n",
    "    for row in fields.findAll(class_='list-group-item'):\n",
    "        row_data = []\n",
    "        for cell in row.findAll(class_='list-field'):\n",
    "            row_data.append(cell.text)\n",
    "\n",
    "        if(len(row_data) > 0):\n",
    "            data_item = {\"Place (Overall)\": row_data[0],\n",
    "                         \"Place (Gender)\": row_data[1],\n",
    "                         \"Place (Category)\": row_data[2],\n",
    "                         \"Name\": row_data[3],\n",
    "                         \"Sex\": sex,\n",
    "                         \"Club\": row_data[4],\n",
    "                         \"Running Number\": row_data[5],\n",
    "                         \"Category\": row_data[6],\n",
    "                         \"Finish\": row_data[7],\n",
    "            }\n",
    "            my_table.append(data_item)\n",
    "\n",
    "    df = pd.DataFrame(my_table).iloc[1:]\n",
    "    \n",
    "    womens_results = womens_results.append(df)"
   ]
  },
  {
   "cell_type": "code",
   "execution_count": 52,
   "metadata": {},
   "outputs": [],
   "source": [
    "# Concatenate results\n",
    "results = pd.concat([mens_results, womens_results])"
   ]
  },
  {
   "cell_type": "code",
   "execution_count": 54,
   "metadata": {},
   "outputs": [
    {
     "output_type": "execute_result",
     "data": {
      "text/plain": [
       "     Place (Overall) Place (Gender) Place (Category)                  Name  \\\n",
       "1              27350          15247             5416      Abando, Jeffrey    \n",
       "2               4946           3859              828         Abbas, Ahmad    \n",
       "3              16562          10605             3946         Abbas, Wasim    \n",
       "4                NaN            NaN              NaN          Abbot, Ryan    \n",
       "5               7419           5520             2134      Abbotson, Peter    \n",
       "...              ...            ...              ...                   ...   \n",
       "996              NaN            NaN              NaN        Kozak, Lauren    \n",
       "997             3068           2533             1041       Kozak, Vitalii    \n",
       "998              NaN            NaN              NaN         Koziol, Andy    \n",
       "999            25271          14412             5151       Kozior, Konrad    \n",
       "1000             NaN            NaN              NaN  Kozlovskyi, Oleksii    \n",
       "\n",
       "     Sex Club Running Number Category    Finish  Country  FirstName  \\\n",
       "1      M  NaN           9162    18-39  07:02:57      NaN   Jeffrey    \n",
       "2      M  NaN          33403    40-44  03:54:10      NaN     Ahmad    \n",
       "3      M  NaN          28880    18-39  05:15:03      NaN     Wasim    \n",
       "4      M  NaN          38738    40-44       NaN      NaN      Ryan    \n",
       "5      M  NaN          16712    18-39  04:12:28      NaN     Peter    \n",
       "...   ..  ...            ...      ...       ...      ...        ...   \n",
       "996    F  NaN          42820    18-39       NaN      NaN    Lauren    \n",
       "997    F  NaN          13199    18-39  03:38:43      NaN   Vitalii    \n",
       "998    F  NaN          13924    45-49       NaN      NaN      Andy    \n",
       "999    F  NaN          41829    18-39  06:34:31      NaN    Konrad    \n",
       "1000   F  NaN           7388    40-44       NaN      NaN   Oleksii    \n",
       "\n",
       "        LastName  \n",
       "1         Abando  \n",
       "2          Abbas  \n",
       "3          Abbas  \n",
       "4          Abbot  \n",
       "5       Abbotson  \n",
       "...          ...  \n",
       "996        Kozak  \n",
       "997        Kozak  \n",
       "998       Koziol  \n",
       "999       Kozior  \n",
       "1000  Kozlovskyi  \n",
       "\n",
       "[44000 rows x 12 columns]"
      ],
      "text/html": "<div>\n<style scoped>\n    .dataframe tbody tr th:only-of-type {\n        vertical-align: middle;\n    }\n\n    .dataframe tbody tr th {\n        vertical-align: top;\n    }\n\n    .dataframe thead th {\n        text-align: right;\n    }\n</style>\n<table border=\"1\" class=\"dataframe\">\n  <thead>\n    <tr style=\"text-align: right;\">\n      <th></th>\n      <th>Place (Overall)</th>\n      <th>Place (Gender)</th>\n      <th>Place (Category)</th>\n      <th>Name</th>\n      <th>Sex</th>\n      <th>Club</th>\n      <th>Running Number</th>\n      <th>Category</th>\n      <th>Finish</th>\n      <th>Country</th>\n      <th>FirstName</th>\n      <th>LastName</th>\n    </tr>\n  </thead>\n  <tbody>\n    <tr>\n      <th>1</th>\n      <td>27350</td>\n      <td>15247</td>\n      <td>5416</td>\n      <td>Abando, Jeffrey</td>\n      <td>M</td>\n      <td>NaN</td>\n      <td>9162</td>\n      <td>18-39</td>\n      <td>07:02:57</td>\n      <td>NaN</td>\n      <td>Jeffrey</td>\n      <td>Abando</td>\n    </tr>\n    <tr>\n      <th>2</th>\n      <td>4946</td>\n      <td>3859</td>\n      <td>828</td>\n      <td>Abbas, Ahmad</td>\n      <td>M</td>\n      <td>NaN</td>\n      <td>33403</td>\n      <td>40-44</td>\n      <td>03:54:10</td>\n      <td>NaN</td>\n      <td>Ahmad</td>\n      <td>Abbas</td>\n    </tr>\n    <tr>\n      <th>3</th>\n      <td>16562</td>\n      <td>10605</td>\n      <td>3946</td>\n      <td>Abbas, Wasim</td>\n      <td>M</td>\n      <td>NaN</td>\n      <td>28880</td>\n      <td>18-39</td>\n      <td>05:15:03</td>\n      <td>NaN</td>\n      <td>Wasim</td>\n      <td>Abbas</td>\n    </tr>\n    <tr>\n      <th>4</th>\n      <td>NaN</td>\n      <td>NaN</td>\n      <td>NaN</td>\n      <td>Abbot, Ryan</td>\n      <td>M</td>\n      <td>NaN</td>\n      <td>38738</td>\n      <td>40-44</td>\n      <td>NaN</td>\n      <td>NaN</td>\n      <td>Ryan</td>\n      <td>Abbot</td>\n    </tr>\n    <tr>\n      <th>5</th>\n      <td>7419</td>\n      <td>5520</td>\n      <td>2134</td>\n      <td>Abbotson, Peter</td>\n      <td>M</td>\n      <td>NaN</td>\n      <td>16712</td>\n      <td>18-39</td>\n      <td>04:12:28</td>\n      <td>NaN</td>\n      <td>Peter</td>\n      <td>Abbotson</td>\n    </tr>\n    <tr>\n      <th>...</th>\n      <td>...</td>\n      <td>...</td>\n      <td>...</td>\n      <td>...</td>\n      <td>...</td>\n      <td>...</td>\n      <td>...</td>\n      <td>...</td>\n      <td>...</td>\n      <td>...</td>\n      <td>...</td>\n      <td>...</td>\n    </tr>\n    <tr>\n      <th>996</th>\n      <td>NaN</td>\n      <td>NaN</td>\n      <td>NaN</td>\n      <td>Kozak, Lauren</td>\n      <td>F</td>\n      <td>NaN</td>\n      <td>42820</td>\n      <td>18-39</td>\n      <td>NaN</td>\n      <td>NaN</td>\n      <td>Lauren</td>\n      <td>Kozak</td>\n    </tr>\n    <tr>\n      <th>997</th>\n      <td>3068</td>\n      <td>2533</td>\n      <td>1041</td>\n      <td>Kozak, Vitalii</td>\n      <td>F</td>\n      <td>NaN</td>\n      <td>13199</td>\n      <td>18-39</td>\n      <td>03:38:43</td>\n      <td>NaN</td>\n      <td>Vitalii</td>\n      <td>Kozak</td>\n    </tr>\n    <tr>\n      <th>998</th>\n      <td>NaN</td>\n      <td>NaN</td>\n      <td>NaN</td>\n      <td>Koziol, Andy</td>\n      <td>F</td>\n      <td>NaN</td>\n      <td>13924</td>\n      <td>45-49</td>\n      <td>NaN</td>\n      <td>NaN</td>\n      <td>Andy</td>\n      <td>Koziol</td>\n    </tr>\n    <tr>\n      <th>999</th>\n      <td>25271</td>\n      <td>14412</td>\n      <td>5151</td>\n      <td>Kozior, Konrad</td>\n      <td>F</td>\n      <td>NaN</td>\n      <td>41829</td>\n      <td>18-39</td>\n      <td>06:34:31</td>\n      <td>NaN</td>\n      <td>Konrad</td>\n      <td>Kozior</td>\n    </tr>\n    <tr>\n      <th>1000</th>\n      <td>NaN</td>\n      <td>NaN</td>\n      <td>NaN</td>\n      <td>Kozlovskyi, Oleksii</td>\n      <td>F</td>\n      <td>NaN</td>\n      <td>7388</td>\n      <td>40-44</td>\n      <td>NaN</td>\n      <td>NaN</td>\n      <td>Oleksii</td>\n      <td>Kozlovskyi</td>\n    </tr>\n  </tbody>\n</table>\n<p>44000 rows × 12 columns</p>\n</div>"
     },
     "metadata": {},
     "execution_count": 54
    }
   ],
   "source": [
    "#Some quick data cleaning\n",
    "#Remove leftover titles\n",
    "results['Club'] = results['Club'].str.replace(\"Club\", \"\", regex=False)\n",
    "results['Running Number'] = results['Running Number'].str.replace(\"Running Number\", \"\", regex=False)\n",
    "results['Category'] = results['Category'].str.replace(\"Category\", \"\", regex=False)\n",
    "results['Finish'] = results['Finish'].str.replace(\"Finish\", \"\", regex=False)\n",
    "\n",
    "#Extract country groups, like (USA), from Name group\n",
    "results['Country'] = results['Name'].str.extract(r'(\\([A-Z]{3,}\\))')\n",
    "#Remove brackets in country\n",
    "results['Country'] = results['Country'].str.replace(r'\\(|\\)', \"\")\n",
    "#Remove country group from name column\n",
    "results['Name'] = results['Name'].str.replace(r'(\\([A-Z]{3}\\))', \"\")\n",
    "#Split first/lastname into new columns\n",
    "LastFirst = results['Name'].str.split(pat=\",\", n=1, expand=True) \n",
    "results['FirstName'], results['LastName'] = LastFirst[1], LastFirst[0]\n",
    "#Replace non-standard '–' with NaN for missing vals\n",
    "results.replace('–', np.nan)"
   ]
  },
  {
   "cell_type": "code",
   "execution_count": 58,
   "metadata": {},
   "outputs": [],
   "source": [
    "# And quickly save them in a csv\n",
    "results.to_csv(r'C:\\Users\\michael.walshe\\Documents\\Python Projects\\Scraping_London_Marathon_Project\\London_2020.csv', index=False, header=True)"
   ]
  }
 ],
 "metadata": {
  "kernelspec": {
   "display_name": "Python 3",
   "language": "python",
   "name": "python3"
  },
  "language_info": {
   "codemirror_mode": {
    "name": "ipython",
    "version": 3
   },
   "file_extension": ".py",
   "mimetype": "text/x-python",
   "name": "python",
   "nbconvert_exporter": "python",
   "pygments_lexer": "ipython3",
   "version": "3.8.5-final"
  }
 },
 "nbformat": 4,
 "nbformat_minor": 4
}
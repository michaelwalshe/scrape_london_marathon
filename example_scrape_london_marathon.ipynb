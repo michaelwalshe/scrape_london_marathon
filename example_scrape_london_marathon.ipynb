{
 "cells": [
  {
   "cell_type": "code",
   "execution_count": null,
   "metadata": {},
   "outputs": [],
   "source": [
    "# Setting up required libraries\n",
    "import pandas as pd\n",
    "import numpy as np\n",
    "import requests\n",
    "from bs4 import BeautifulSoup"
   ]
  },
  {
   "cell_type": "code",
   "execution_count": null,
   "metadata": {},
   "outputs": [],
   "source": [
    "# Connect to website to be scraped, and get all html\n",
    "url1='https://results.virginmoneylondonmarathon.com/2020/?page='\n",
    "url2='&event=ALL&num_results=1000&pid=search&pidp=results_nav&search%5Bsex%5D='\n",
    "url3='&search%5Bage_class%5D=%25&search%5Bnation%5D=%25&search_sort=name'\n",
    "\n",
    "#Get results for men, 878 pages of results <-There is no search option for other gender/sex\n",
    "mens_results = pd.DataFrame()\n",
    "for i in range(22):\n",
    "    sex='M'\n",
    "    website_url=requests.get(url1+str(i)+url2+sex+url3).text\n",
    "    soup = BeautifulSoup(website_url,'lxml')\n",
    "\n",
    "    fields = soup.find(class_='section-main')\n",
    "\n",
    "    my_table = []\n",
    "    for row in fields.findAll(class_='list-group-item'):\n",
    "        row_data = []\n",
    "        for cell in row.findAll(class_='list-field'):\n",
    "            row_data.append(cell.text)\n",
    "\n",
    "        if(len(row_data) > 0):\n",
    "            data_item = {\"Place (Overall)\": row_data[0],\n",
    "                         \"Place (Gender)\": row_data[1],\n",
    "                         \"Place (Category)\": row_data[2],\n",
    "                         \"Name\": row_data[3],\n",
    "                         \"Sex\": sex,\n",
    "                         \"Club\": row_data[4],\n",
    "                         \"Running Number\": row_data[5],\n",
    "                         \"Category\": row_data[6],\n",
    "                         \"Finish\": row_data[7],\n",
    "            }\n",
    "            my_table.append(data_item)\n",
    "\n",
    "    df = pd.DataFrame(my_table).iloc[1:]\n",
    "    \n",
    "    mens_results = mens_results.append(df)"
   ]
  },
  {
   "cell_type": "code",
   "execution_count": null,
   "metadata": {},
   "outputs": [],
   "source": [
    "#Get results for women\n",
    "womens_results = pd.DataFrame()\n",
    "\n",
    "for i in range(22):\n",
    "    sex='F'\n",
    "    website_url=requests.get(url1+str(i)+url2+sex+url3).text\n",
    "    soup = BeautifulSoup(website_url,'lxml')\n",
    "\n",
    "    fields = soup.find(class_='section-main')\n",
    "\n",
    "    my_table = []\n",
    "    for row in fields.findAll(class_='list-group-item'):\n",
    "        row_data = []\n",
    "        for cell in row.findAll(class_='list-field'):\n",
    "            row_data.append(cell.text)\n",
    "\n",
    "        if(len(row_data) > 0):\n",
    "            data_item = {\"Place (Overall)\": row_data[0],\n",
    "                         \"Place (Gender)\": row_data[1],\n",
    "                         \"Place (Category)\": row_data[2],\n",
    "                         \"Name\": row_data[3],\n",
    "                         \"Sex\": sex,\n",
    "                         \"Club\": row_data[4],\n",
    "                         \"Running Number\": row_data[5],\n",
    "                         \"Category\": row_data[6],\n",
    "                         \"Finish\": row_data[7],\n",
    "            }\n",
    "            my_table.append(data_item)\n",
    "\n",
    "    df = pd.DataFrame(my_table).iloc[1:]\n",
    "    \n",
    "    womens_results = womens_results.append(df)"
   ]
  },
  {
   "cell_type": "code",
   "execution_count": 19,
   "metadata": {},
   "outputs": [],
   "source": [
    "# Concatenate results\n",
    "results = pd.concat([mens_results, womens_results])"
   ]
  },
  {
   "cell_type": "code",
   "execution_count": 20,
   "metadata": {},
   "outputs": [],
   "source": [
    "#Some quick data cleaning\n",
    "#Remove leftover titles\n",
    "results['Club'] = results['Club'].str.replace(\"Club\", \"\", regex=False)\n",
    "results['Running Number'] = results['Running Number'].str.replace(\"Running Number\", \"\", regex=False)\n",
    "results['Category'] = results['Category'].str.replace(\"Category\", \"\", regex=False)\n",
    "results['Finish'] = results['Finish'].str.replace(\"Finish\", \"\", regex=False)\n",
    "\n",
    "#Extract country groups, like (USA), from Name group\n",
    "results['Country'] = results['Name'].str.extract(r'(\\([A-Z]{3,}\\))')\n",
    "#Remove brackets in country\n",
    "results['Country'] = results['Country'].str.replace(r'\\(|\\)', \"\")\n",
    "#Remove country group from name column\n",
    "results['Name'] = results['Name'].str.replace(r'(\\([A-Z]{3}\\))', \"\")\n",
    "\n",
    "#Split first/lastname into new columns\n",
    "LastFirst = results['Name'].str.split(pat=\",\", n=1, expand=True) \n",
    "results['FirstName'], results['LastName'] = LastFirst[1], LastFirst[0]\n",
    "#Remove comma from Name column, so that this can be saved as a CSV ----- Must happen after splitting Name into two cols!!\n",
    "results['Name'] = results['Name'].str.replace(r'(\\,)', \"\")\n",
    "#Replace non-standard '–' with NaN for missing vals\n",
    "results = results.replace('–', np.nan)"
   ]
  },
  {
   "cell_type": "code",
   "execution_count": 21,
   "metadata": {},
   "outputs": [
    {
     "output_type": "execute_result",
     "data": {
      "text/plain": [
       "     Place (Overall) Place (Gender) Place (Category)                 Name Sex  \\\n",
       "1                NaN            NaN              NaN    Ashdjian Thérèse    F   \n",
       "2              10809           3248              382   Ashdown Katharine    F   \n",
       "3                NaN            NaN              NaN   Ashdown-tams Luke    F   \n",
       "4               9607           2766              584         Ashe Finola    F   \n",
       "5              25293          10875             1403        Asher Joanne    F   \n",
       "...              ...            ...              ...                  ...  ..   \n",
       "996              NaN            NaN              NaN        Kozak Lauren    F   \n",
       "997             3068           2533             1041       Kozak Vitalii    F   \n",
       "998              NaN            NaN              NaN         Koziol Andy    F   \n",
       "999            25272          14413             5151       Kozior Konrad    F   \n",
       "1000             NaN            NaN              NaN  Kozlovskyi Oleksii    F   \n",
       "\n",
       "     Club Running Number Category    Finish Country    FirstName      LastName  \n",
       "1     NaN          12899    50-54       NaN     GBR     Thérèse       Ashdjian  \n",
       "2     NaN          36539    50-54  04:34:45     GBR   Katharine        Ashdown  \n",
       "3     NaN          36422    18-39       NaN     GBR        Luke   Ashdown-tams  \n",
       "4     NaN          17279    45-49  04:27:08     GBR      Finola           Ashe  \n",
       "5     NaN          15943    50-54  06:34:44     GBR      Joanne          Asher  \n",
       "...   ...            ...      ...       ...     ...          ...           ...  \n",
       "996   NaN          42820    18-39       NaN     USA      Lauren          Kozak  \n",
       "997   NaN          13199    18-39  03:38:43     GBR     Vitalii          Kozak  \n",
       "998   NaN          13924    45-49       NaN     CAN        Andy         Koziol  \n",
       "999   NaN          41829    18-39  06:34:31     GBR      Konrad         Kozior  \n",
       "1000  NaN           7388    40-44       NaN     UKR     Oleksii     Kozlovskyi  \n",
       "\n",
       "[20000 rows x 12 columns]"
      ],
      "text/html": "<div>\n<style scoped>\n    .dataframe tbody tr th:only-of-type {\n        vertical-align: middle;\n    }\n\n    .dataframe tbody tr th {\n        vertical-align: top;\n    }\n\n    .dataframe thead th {\n        text-align: right;\n    }\n</style>\n<table border=\"1\" class=\"dataframe\">\n  <thead>\n    <tr style=\"text-align: right;\">\n      <th></th>\n      <th>Place (Overall)</th>\n      <th>Place (Gender)</th>\n      <th>Place (Category)</th>\n      <th>Name</th>\n      <th>Sex</th>\n      <th>Club</th>\n      <th>Running Number</th>\n      <th>Category</th>\n      <th>Finish</th>\n      <th>Country</th>\n      <th>FirstName</th>\n      <th>LastName</th>\n    </tr>\n  </thead>\n  <tbody>\n    <tr>\n      <th>1</th>\n      <td>NaN</td>\n      <td>NaN</td>\n      <td>NaN</td>\n      <td>Ashdjian Thérèse</td>\n      <td>F</td>\n      <td>NaN</td>\n      <td>12899</td>\n      <td>50-54</td>\n      <td>NaN</td>\n      <td>GBR</td>\n      <td>Thérèse</td>\n      <td>Ashdjian</td>\n    </tr>\n    <tr>\n      <th>2</th>\n      <td>10809</td>\n      <td>3248</td>\n      <td>382</td>\n      <td>Ashdown Katharine</td>\n      <td>F</td>\n      <td>NaN</td>\n      <td>36539</td>\n      <td>50-54</td>\n      <td>04:34:45</td>\n      <td>GBR</td>\n      <td>Katharine</td>\n      <td>Ashdown</td>\n    </tr>\n    <tr>\n      <th>3</th>\n      <td>NaN</td>\n      <td>NaN</td>\n      <td>NaN</td>\n      <td>Ashdown-tams Luke</td>\n      <td>F</td>\n      <td>NaN</td>\n      <td>36422</td>\n      <td>18-39</td>\n      <td>NaN</td>\n      <td>GBR</td>\n      <td>Luke</td>\n      <td>Ashdown-tams</td>\n    </tr>\n    <tr>\n      <th>4</th>\n      <td>9607</td>\n      <td>2766</td>\n      <td>584</td>\n      <td>Ashe Finola</td>\n      <td>F</td>\n      <td>NaN</td>\n      <td>17279</td>\n      <td>45-49</td>\n      <td>04:27:08</td>\n      <td>GBR</td>\n      <td>Finola</td>\n      <td>Ashe</td>\n    </tr>\n    <tr>\n      <th>5</th>\n      <td>25293</td>\n      <td>10875</td>\n      <td>1403</td>\n      <td>Asher Joanne</td>\n      <td>F</td>\n      <td>NaN</td>\n      <td>15943</td>\n      <td>50-54</td>\n      <td>06:34:44</td>\n      <td>GBR</td>\n      <td>Joanne</td>\n      <td>Asher</td>\n    </tr>\n    <tr>\n      <th>...</th>\n      <td>...</td>\n      <td>...</td>\n      <td>...</td>\n      <td>...</td>\n      <td>...</td>\n      <td>...</td>\n      <td>...</td>\n      <td>...</td>\n      <td>...</td>\n      <td>...</td>\n      <td>...</td>\n      <td>...</td>\n    </tr>\n    <tr>\n      <th>996</th>\n      <td>NaN</td>\n      <td>NaN</td>\n      <td>NaN</td>\n      <td>Kozak Lauren</td>\n      <td>F</td>\n      <td>NaN</td>\n      <td>42820</td>\n      <td>18-39</td>\n      <td>NaN</td>\n      <td>USA</td>\n      <td>Lauren</td>\n      <td>Kozak</td>\n    </tr>\n    <tr>\n      <th>997</th>\n      <td>3068</td>\n      <td>2533</td>\n      <td>1041</td>\n      <td>Kozak Vitalii</td>\n      <td>F</td>\n      <td>NaN</td>\n      <td>13199</td>\n      <td>18-39</td>\n      <td>03:38:43</td>\n      <td>GBR</td>\n      <td>Vitalii</td>\n      <td>Kozak</td>\n    </tr>\n    <tr>\n      <th>998</th>\n      <td>NaN</td>\n      <td>NaN</td>\n      <td>NaN</td>\n      <td>Koziol Andy</td>\n      <td>F</td>\n      <td>NaN</td>\n      <td>13924</td>\n      <td>45-49</td>\n      <td>NaN</td>\n      <td>CAN</td>\n      <td>Andy</td>\n      <td>Koziol</td>\n    </tr>\n    <tr>\n      <th>999</th>\n      <td>25272</td>\n      <td>14413</td>\n      <td>5151</td>\n      <td>Kozior Konrad</td>\n      <td>F</td>\n      <td>NaN</td>\n      <td>41829</td>\n      <td>18-39</td>\n      <td>06:34:31</td>\n      <td>GBR</td>\n      <td>Konrad</td>\n      <td>Kozior</td>\n    </tr>\n    <tr>\n      <th>1000</th>\n      <td>NaN</td>\n      <td>NaN</td>\n      <td>NaN</td>\n      <td>Kozlovskyi Oleksii</td>\n      <td>F</td>\n      <td>NaN</td>\n      <td>7388</td>\n      <td>40-44</td>\n      <td>NaN</td>\n      <td>UKR</td>\n      <td>Oleksii</td>\n      <td>Kozlovskyi</td>\n    </tr>\n  </tbody>\n</table>\n<p>20000 rows × 12 columns</p>\n</div>"
     },
     "metadata": {},
     "execution_count": 21
    }
   ],
   "source": [
    "results"
   ]
  },
  {
   "cell_type": "code",
   "execution_count": null,
   "metadata": {},
   "outputs": [],
   "source": [
    "# And quickly save them in a csv\n",
    "results.to_csv(r'C:\\Users\\michael.walshe\\Documents\\Python Projects\\Scraping_London_Marathon_Project\\London_2020.csv', index=False, header=True)"
   ]
  }
 ],
 "metadata": {
  "kernelspec": {
   "name": "python385jvsc74a57bd00188e1d2bc53a9294aae56bf1ea31698e906b60a882ff91489addc94996f1fb7",
   "display_name": "Python 3.8.5 64-bit ('testenv': conda)"
  },
  "language_info": {
   "codemirror_mode": {
    "name": "ipython",
    "version": 3
   },
   "file_extension": ".py",
   "mimetype": "text/x-python",
   "name": "python",
   "nbconvert_exporter": "python",
   "pygments_lexer": "ipython3",
   "version": "3.8.5"
  }
 },
 "nbformat": 4,
 "nbformat_minor": 4
}
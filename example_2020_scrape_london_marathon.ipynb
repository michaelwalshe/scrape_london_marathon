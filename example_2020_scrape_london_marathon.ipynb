{
 "cells": [
  {
   "cell_type": "code",
   "execution_count": 1,
   "metadata": {},
   "outputs": [],
   "source": [
    "# Setting up required libraries\n",
    "import pandas as pd\n",
    "import numpy as np\n",
    "import requests\n",
    "from bs4 import BeautifulSoup"
   ]
  },
  {
   "cell_type": "code",
   "execution_count": 2,
   "metadata": {},
   "outputs": [],
   "source": [
    "# Connect to website to be scraped, and get all html\n",
    "url1='https://results.virginmoneylondonmarathon.com/2020/?page='\n",
    "url2='&event=ALL&num_results=1000&pid=search&pidp=results_nav&search%5Bsex%5D='\n",
    "url3='&search%5Bage_class%5D=%25&search%5Bnation%5D=%25&search_sort=name'\n",
    "\n",
    "#Get results for men, 878 pages of results <-There is no search option for other gender/sex\n",
    "mens_results = pd.DataFrame()\n",
    "for i in range(22):\n",
    "    sex='M'\n",
    "    website_url=requests.get(url1+str(i)+url2+sex+url3).text\n",
    "    soup = BeautifulSoup(website_url,'lxml')\n",
    "\n",
    "    fields = soup.find(class_='section-main')\n",
    "\n",
    "    my_table = []\n",
    "    for row in fields.findAll(class_='list-group-item'):\n",
    "        row_data = []\n",
    "        for cell in row.findAll(class_='list-field'):\n",
    "            row_data.append(cell.text)\n",
    "\n",
    "        if(len(row_data) > 0):\n",
    "            data_item = {\"Place (Overall)\": row_data[0],\n",
    "                         \"Place (Gender)\": row_data[1],\n",
    "                         \"Place (Category)\": row_data[2],\n",
    "                         \"Name\": row_data[3],\n",
    "                         \"Sex\": sex,\n",
    "                         \"Club\": row_data[4],\n",
    "                         \"Running Number\": row_data[5],\n",
    "                         \"Category\": row_data[6],\n",
    "                         \"Finish\": row_data[7],\n",
    "            }\n",
    "            my_table.append(data_item)\n",
    "\n",
    "    df = pd.DataFrame(my_table).iloc[1:]\n",
    "    \n",
    "    mens_results = mens_results.append(df)"
   ]
  },
  {
   "cell_type": "code",
   "execution_count": 3,
   "metadata": {},
   "outputs": [],
   "source": [
    "#Get results for women\n",
    "womens_results = pd.DataFrame()\n",
    "\n",
    "for i in range(22):\n",
    "    sex='F'\n",
    "    website_url=requests.get(url1+str(i)+url2+sex+url3).text\n",
    "    soup = BeautifulSoup(website_url,'lxml')\n",
    "\n",
    "    fields = soup.find(class_='section-main')\n",
    "\n",
    "    my_table = []\n",
    "    for row in fields.findAll(class_='list-group-item'):\n",
    "        row_data = []\n",
    "        for cell in row.findAll(class_='list-field'):\n",
    "            row_data.append(cell.text)\n",
    "\n",
    "        if(len(row_data) > 0):\n",
    "            data_item = {\"Place (Overall)\": row_data[0],\n",
    "                         \"Place (Gender)\": row_data[1],\n",
    "                         \"Place (Category)\": row_data[2],\n",
    "                         \"Name\": row_data[3],\n",
    "                         \"Sex\": sex,\n",
    "                         \"Club\": row_data[4],\n",
    "                         \"Running Number\": row_data[5],\n",
    "                         \"Category\": row_data[6],\n",
    "                         \"Finish\": row_data[7],\n",
    "            }\n",
    "            my_table.append(data_item)\n",
    "\n",
    "    df = pd.DataFrame(my_table).iloc[1:]\n",
    "    \n",
    "    womens_results = womens_results.append(df)"
   ]
  },
  {
   "cell_type": "code",
   "execution_count": 4,
   "metadata": {},
   "outputs": [],
   "source": [
    "# Concatenate results\n",
    "results = pd.concat([mens_results, womens_results])"
   ]
  },
  {
   "cell_type": "code",
   "execution_count": 6,
   "metadata": {},
   "outputs": [
    {
     "output_type": "execute_result",
     "data": {
      "text/plain": [
       "     Place (Overall) Place (Gender) Place (Category)                 Name Sex  \\\n",
       "1              27354          15250             5417      Abando Jeffrey    M   \n",
       "2               4947           3860              828         Abbas Ahmad    M   \n",
       "3              16564          10607             3947         Abbas Wasim    M   \n",
       "4                NaN            NaN              NaN          Abbot Ryan    M   \n",
       "5               7420           5521             2135      Abbotson Peter    M   \n",
       "...              ...            ...              ...                  ...  ..   \n",
       "996             3069           2534             1042       Kozak Vitalii    F   \n",
       "997              NaN            NaN              NaN         Koziol Andy    F   \n",
       "998            25275          14415             5152       Kozior Konrad    F   \n",
       "999              NaN            NaN              NaN  Kozlovskyi Oleksii    F   \n",
       "1000             626            604              302  Kozlowski Jaroslaw    F   \n",
       "\n",
       "     Club Running Number Category    Finish Country   FirstName    LastName  \n",
       "1     NaN           9162    18-39  07:02:57     USA    Jeffrey       Abando  \n",
       "2     NaN          33403    40-44  03:54:10     GBR      Ahmad        Abbas  \n",
       "3     NaN          28880    18-39  05:15:03     GBR      Wasim        Abbas  \n",
       "4     NaN          38738    40-44       NaN     GBR       Ryan        Abbot  \n",
       "5     NaN          16712    18-39  04:12:28     GBR      Peter     Abbotson  \n",
       "...   ...            ...      ...       ...     ...         ...         ...  \n",
       "996   NaN          13199    18-39  03:38:43     GBR    Vitalii        Kozak  \n",
       "997   NaN          13924    45-49       NaN     CAN       Andy       Koziol  \n",
       "998   NaN          41829    18-39  06:34:31     GBR     Konrad       Kozior  \n",
       "999   NaN           7388    40-44       NaN     UKR    Oleksii   Kozlovskyi  \n",
       "1000  NaN          29920    18-39  02:59:51     GBR   Jaroslaw    Kozlowski  \n",
       "\n",
       "[44000 rows x 12 columns]"
      ],
      "text/html": "<div>\n<style scoped>\n    .dataframe tbody tr th:only-of-type {\n        vertical-align: middle;\n    }\n\n    .dataframe tbody tr th {\n        vertical-align: top;\n    }\n\n    .dataframe thead th {\n        text-align: right;\n    }\n</style>\n<table border=\"1\" class=\"dataframe\">\n  <thead>\n    <tr style=\"text-align: right;\">\n      <th></th>\n      <th>Place (Overall)</th>\n      <th>Place (Gender)</th>\n      <th>Place (Category)</th>\n      <th>Name</th>\n      <th>Sex</th>\n      <th>Club</th>\n      <th>Running Number</th>\n      <th>Category</th>\n      <th>Finish</th>\n      <th>Country</th>\n      <th>FirstName</th>\n      <th>LastName</th>\n    </tr>\n  </thead>\n  <tbody>\n    <tr>\n      <th>1</th>\n      <td>27354</td>\n      <td>15250</td>\n      <td>5417</td>\n      <td>Abando Jeffrey</td>\n      <td>M</td>\n      <td>NaN</td>\n      <td>9162</td>\n      <td>18-39</td>\n      <td>07:02:57</td>\n      <td>USA</td>\n      <td>Jeffrey</td>\n      <td>Abando</td>\n    </tr>\n    <tr>\n      <th>2</th>\n      <td>4947</td>\n      <td>3860</td>\n      <td>828</td>\n      <td>Abbas Ahmad</td>\n      <td>M</td>\n      <td>NaN</td>\n      <td>33403</td>\n      <td>40-44</td>\n      <td>03:54:10</td>\n      <td>GBR</td>\n      <td>Ahmad</td>\n      <td>Abbas</td>\n    </tr>\n    <tr>\n      <th>3</th>\n      <td>16564</td>\n      <td>10607</td>\n      <td>3947</td>\n      <td>Abbas Wasim</td>\n      <td>M</td>\n      <td>NaN</td>\n      <td>28880</td>\n      <td>18-39</td>\n      <td>05:15:03</td>\n      <td>GBR</td>\n      <td>Wasim</td>\n      <td>Abbas</td>\n    </tr>\n    <tr>\n      <th>4</th>\n      <td>NaN</td>\n      <td>NaN</td>\n      <td>NaN</td>\n      <td>Abbot Ryan</td>\n      <td>M</td>\n      <td>NaN</td>\n      <td>38738</td>\n      <td>40-44</td>\n      <td>NaN</td>\n      <td>GBR</td>\n      <td>Ryan</td>\n      <td>Abbot</td>\n    </tr>\n    <tr>\n      <th>5</th>\n      <td>7420</td>\n      <td>5521</td>\n      <td>2135</td>\n      <td>Abbotson Peter</td>\n      <td>M</td>\n      <td>NaN</td>\n      <td>16712</td>\n      <td>18-39</td>\n      <td>04:12:28</td>\n      <td>GBR</td>\n      <td>Peter</td>\n      <td>Abbotson</td>\n    </tr>\n    <tr>\n      <th>...</th>\n      <td>...</td>\n      <td>...</td>\n      <td>...</td>\n      <td>...</td>\n      <td>...</td>\n      <td>...</td>\n      <td>...</td>\n      <td>...</td>\n      <td>...</td>\n      <td>...</td>\n      <td>...</td>\n      <td>...</td>\n    </tr>\n    <tr>\n      <th>996</th>\n      <td>3069</td>\n      <td>2534</td>\n      <td>1042</td>\n      <td>Kozak Vitalii</td>\n      <td>F</td>\n      <td>NaN</td>\n      <td>13199</td>\n      <td>18-39</td>\n      <td>03:38:43</td>\n      <td>GBR</td>\n      <td>Vitalii</td>\n      <td>Kozak</td>\n    </tr>\n    <tr>\n      <th>997</th>\n      <td>NaN</td>\n      <td>NaN</td>\n      <td>NaN</td>\n      <td>Koziol Andy</td>\n      <td>F</td>\n      <td>NaN</td>\n      <td>13924</td>\n      <td>45-49</td>\n      <td>NaN</td>\n      <td>CAN</td>\n      <td>Andy</td>\n      <td>Koziol</td>\n    </tr>\n    <tr>\n      <th>998</th>\n      <td>25275</td>\n      <td>14415</td>\n      <td>5152</td>\n      <td>Kozior Konrad</td>\n      <td>F</td>\n      <td>NaN</td>\n      <td>41829</td>\n      <td>18-39</td>\n      <td>06:34:31</td>\n      <td>GBR</td>\n      <td>Konrad</td>\n      <td>Kozior</td>\n    </tr>\n    <tr>\n      <th>999</th>\n      <td>NaN</td>\n      <td>NaN</td>\n      <td>NaN</td>\n      <td>Kozlovskyi Oleksii</td>\n      <td>F</td>\n      <td>NaN</td>\n      <td>7388</td>\n      <td>40-44</td>\n      <td>NaN</td>\n      <td>UKR</td>\n      <td>Oleksii</td>\n      <td>Kozlovskyi</td>\n    </tr>\n    <tr>\n      <th>1000</th>\n      <td>626</td>\n      <td>604</td>\n      <td>302</td>\n      <td>Kozlowski Jaroslaw</td>\n      <td>F</td>\n      <td>NaN</td>\n      <td>29920</td>\n      <td>18-39</td>\n      <td>02:59:51</td>\n      <td>GBR</td>\n      <td>Jaroslaw</td>\n      <td>Kozlowski</td>\n    </tr>\n  </tbody>\n</table>\n<p>44000 rows × 12 columns</p>\n</div>"
     },
     "metadata": {},
     "execution_count": 6
    }
   ],
   "source": [
    "results"
   ]
  },
  {
   "cell_type": "code",
   "execution_count": 5,
   "metadata": {},
   "outputs": [
    {
     "output_type": "error",
     "ename": "KeyError",
     "evalue": "'Only a column name can be used for the key in a dtype mappings argument.'",
     "traceback": [
      "\u001b[1;31m---------------------------------------------------------------------------\u001b[0m",
      "\u001b[1;31mKeyError\u001b[0m                                  Traceback (most recent call last)",
      "\u001b[1;32m<ipython-input-5-5e82ac8219cc>\u001b[0m in \u001b[0;36m<module>\u001b[1;34m\u001b[0m\n\u001b[0;32m     22\u001b[0m \u001b[1;33m\u001b[0m\u001b[0m\n\u001b[0;32m     23\u001b[0m \u001b[1;31m#Set data types\u001b[0m\u001b[1;33m\u001b[0m\u001b[1;33m\u001b[0m\u001b[1;33m\u001b[0m\u001b[0m\n\u001b[1;32m---> 24\u001b[1;33m results =  results.astype({\"Place (Overall)\": 'float64',\n\u001b[0m\u001b[0;32m     25\u001b[0m                            \u001b[1;34m\"Place (Gender)\"\u001b[0m\u001b[1;33m:\u001b[0m \u001b[1;34m'float64'\u001b[0m\u001b[1;33m,\u001b[0m\u001b[1;33m\u001b[0m\u001b[1;33m\u001b[0m\u001b[0m\n\u001b[0;32m     26\u001b[0m                            \u001b[1;34m\"Place (Category)\"\u001b[0m\u001b[1;33m:\u001b[0m \u001b[1;34m'float64'\u001b[0m\u001b[1;33m,\u001b[0m\u001b[1;33m\u001b[0m\u001b[1;33m\u001b[0m\u001b[0m\n",
      "\u001b[1;32m~\\Anaconda3\\envs\\testenv\\lib\\site-packages\\pandas\\core\\generic.py\u001b[0m in \u001b[0;36mastype\u001b[1;34m(self, dtype, copy, errors)\u001b[0m\n\u001b[0;32m   5521\u001b[0m             \u001b[1;32mfor\u001b[0m \u001b[0mcol_name\u001b[0m \u001b[1;32min\u001b[0m \u001b[0mdtype\u001b[0m\u001b[1;33m.\u001b[0m\u001b[0mkeys\u001b[0m\u001b[1;33m(\u001b[0m\u001b[1;33m)\u001b[0m\u001b[1;33m:\u001b[0m\u001b[1;33m\u001b[0m\u001b[1;33m\u001b[0m\u001b[0m\n\u001b[0;32m   5522\u001b[0m                 \u001b[1;32mif\u001b[0m \u001b[0mcol_name\u001b[0m \u001b[1;32mnot\u001b[0m \u001b[1;32min\u001b[0m \u001b[0mself\u001b[0m\u001b[1;33m:\u001b[0m\u001b[1;33m\u001b[0m\u001b[1;33m\u001b[0m\u001b[0m\n\u001b[1;32m-> 5523\u001b[1;33m                     raise KeyError(\n\u001b[0m\u001b[0;32m   5524\u001b[0m                         \u001b[1;34m\"Only a column name can be used for the \"\u001b[0m\u001b[1;33m\u001b[0m\u001b[1;33m\u001b[0m\u001b[0m\n\u001b[0;32m   5525\u001b[0m                         \u001b[1;34m\"key in a dtype mappings argument.\"\u001b[0m\u001b[1;33m\u001b[0m\u001b[1;33m\u001b[0m\u001b[0m\n",
      "\u001b[1;31mKeyError\u001b[0m: 'Only a column name can be used for the key in a dtype mappings argument.'"
     ]
    }
   ],
   "source": [
    "#Some quick data cleaning\n",
    "#Remove leftover titles\n",
    "results['Club'] = results['Club'].str.replace(\"Club\", \"\", regex=False)\n",
    "results['Running Number'] = results['Running Number'].str.replace(\"Running Number\", \"\", regex=False)\n",
    "results['Category'] = results['Category'].str.replace(\"Category\", \"\", regex=False)\n",
    "results['Finish'] = results['Finish'].str.replace(\"Finish\", \"\", regex=False)\n",
    "\n",
    "#Extract country groups, like (USA), from Name group\n",
    "results['Country'] = results['Name'].str.extract(r'(\\([A-Z]{3,}\\))')\n",
    "#Remove brackets in country\n",
    "results['Country'] = results['Country'].str.replace(r'\\(|\\)', \"\")\n",
    "#Remove country group from name column\n",
    "results['Name'] = results['Name'].str.replace(r'(\\([A-Z]{3}\\))', \"\")\n",
    "\n",
    "#Split first/lastname into new columns\n",
    "LastFirst = results['Name'].str.split(pat=\",\", n=1, expand=True) \n",
    "results['FirstName'], results['LastName'] = LastFirst[1], LastFirst[0]\n",
    "#Remove comma from Name column, so that this can be saved as a CSV ----- Must happen after splitting Name into two cols!!\n",
    "results['Name'] = results['Name'].str.replace(r'(\\,)', \"\")\n",
    "#Replace non-standard '–' with NaN for missing vals\n",
    "results = results.replace('–', np.nan)\n",
    "\n",
    "#Set data types\n",
    "results =  results.astype({\"Place (Overall)\": 'float64',\n",
    "                           \"Place (Gender)\": 'float64',\n",
    "                           \"Place (Category)\": 'float64',\n",
    "                           \"Name\": str,\n",
    "                           \"Sex\": str,\n",
    "                           \"Club\": str,\n",
    "                           \"Running Number\": 'float64',\n",
    "                           \"Category\": 'category',\n",
    "                           \"Year\": 'Int64',\n",
    "                           \"Country\": str,\n",
    "                           \"FirstName\": str,\n",
    "                           \"LastName\": str})\n",
    "# Due to an irritating bug with converting objects to Int64, needed to first convert to float and then to int\n",
    "results =  results.astype({\"Place (Overall)\": 'Int64',\n",
    "                           \"Place (Gender)\": 'Int64',\n",
    "                           \"Place (Category)\": 'Int64',\n",
    "                           \"Running Number\": 'Int64'})\n",
    "results['Finish'] = pd.to_timedelta(results['Finish'])\n",
    "results['Finish (Total Seconds)'] = results['Finish'].dt.total_seconds()"
   ]
  },
  {
   "cell_type": "code",
   "execution_count": 7,
   "metadata": {},
   "outputs": [
    {
     "output_type": "stream",
     "name": "stdout",
     "text": [
      "<class 'pandas.core.frame.DataFrame'>\nInt64Index: 44000 entries, 1 to 1000\nData columns (total 12 columns):\n #   Column            Non-Null Count  Dtype \n---  ------            --------------  ----- \n 0   Place (Overall)   38724 non-null  object\n 1   Place (Gender)    38724 non-null  object\n 2   Place (Category)  38649 non-null  object\n 3   Name              44000 non-null  object\n 4   Sex               44000 non-null  object\n 5   Club              8021 non-null   object\n 6   Running Number    44000 non-null  object\n 7   Category          43891 non-null  object\n 8   Finish            38724 non-null  object\n 9   Country           43304 non-null  object\n 10  FirstName         44000 non-null  object\n 11  LastName          44000 non-null  object\ndtypes: object(12)\nmemory usage: 4.4+ MB\n"
     ]
    }
   ],
   "source": [
    "results.info()"
   ]
  },
  {
   "cell_type": "code",
   "execution_count": null,
   "metadata": {},
   "outputs": [],
   "source": [
    "# And quickly save them in a csv\n",
    "results.to_csv(r'C:\\Users\\michael.walshe\\Documents\\Python Projects\\Scraping_London_Marathon_Project\\London_2020.csv', index=False, header=True)"
   ]
  }
 ],
 "metadata": {
  "kernelspec": {
   "name": "python385jvsc74a57bd00188e1d2bc53a9294aae56bf1ea31698e906b60a882ff91489addc94996f1fb7",
   "display_name": "Python 3.8.5 64-bit ('testenv': conda)"
  },
  "language_info": {
   "codemirror_mode": {
    "name": "ipython",
    "version": 3
   },
   "file_extension": ".py",
   "mimetype": "text/x-python",
   "name": "python",
   "nbconvert_exporter": "python",
   "pygments_lexer": "ipython3",
   "version": "3.8.5"
  }
 },
 "nbformat": 4,
 "nbformat_minor": 4
}
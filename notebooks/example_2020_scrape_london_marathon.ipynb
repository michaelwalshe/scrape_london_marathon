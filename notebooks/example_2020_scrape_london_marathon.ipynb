{
 "cells": [
  {
   "cell_type": "code",
   "execution_count": 2,
   "metadata": {},
   "outputs": [],
   "source": [
    "# Setting up required libraries\n",
    "import pandas as pd\n",
    "import numpy as np\n",
    "import requests\n",
    "from bs4 import BeautifulSoup, SoupStrainer"
   ]
  },
  {
   "cell_type": "code",
   "execution_count": 3,
   "metadata": {
    "tags": [
     "outputPrepend"
    ]
   },
   "outputs": [],
   "source": [
    "# Connect to website to be scraped, and get all html\n",
    "url1 = \"https://results.virginmoneylondonmarathon.com/2021/?page=\"\n",
    "url2 = \"&event=ALL&num_results=1000&pid=search&pidp=results_nav&search%5Bsex%5D=\"\n",
    "url3 = \"&search%5Bage_class%5D=%25&search%5Bnation%5D=%25&search_sort=name\"\n",
    "\n",
    "# Get results for men, 3 pages of results <-There is no search option for other gender/sex\n",
    "mens_results = pd.DataFrame()\n",
    "for i in range(3):  # max 25\n",
    "    sex = \"M\"\n",
    "\n",
    "    site = requests.get(url1 + str(i) + url2 + sex + url3).text\n",
    "    # Soup strainer restricts content to speed up soup\n",
    "    strainer = SoupStrainer(class_=\"section-main\")\n",
    "    soup = BeautifulSoup(site, \"lxml\", parse_only=strainer)\n",
    "    # fields = soup.find(class_='section-main')\n",
    "\n",
    "    # Loop through each row and column to create a list of cells\n",
    "    my_table = []\n",
    "    for row in soup.find_all(class_=\"list-group-item\"):\n",
    "        row_data = []\n",
    "        for cell in row.find_all(class_=\"list-field\"):\n",
    "            row_data.append(cell.text)\n",
    "        # If the row isn't empty, then create a dict of the row to create dataframe from\n",
    "        if row_data:\n",
    "            data_item = {\n",
    "                \"Place (Overall)\": row_data[0],\n",
    "                \"Place (Gender)\": row_data[1],\n",
    "                \"Place (Category)\": row_data[2],\n",
    "                \"Name\": row_data[3],\n",
    "                \"Sex\": sex,\n",
    "                \"Club\": row_data[4],\n",
    "                \"Running Number\": row_data[5],\n",
    "                \"Category\": row_data[6],\n",
    "                \"Finish\": row_data[9],\n",
    "                \"Year\": 2021,\n",
    "            }\n",
    "            my_table.append(data_item)\n",
    "    df = pd.DataFrame(my_table).iloc[1:]  # Strip table header\n",
    "\n",
    "    mens_results = mens_results.append(df)"
   ]
  },
  {
   "cell_type": "code",
   "execution_count": null,
   "metadata": {},
   "outputs": [],
   "source": [
    "# Get results for women\n",
    "womens_results = pd.DataFrame()\n",
    "for i in range(3):  # 17\n",
    "    sex = \"F\"\n",
    "\n",
    "    site = requests.get(url1 + str(i) + url2 + sex + url3).text\n",
    "    # Soup strainer restricts content to speed up soup\n",
    "    strainer = SoupStrainer(class_=\"section-main\")\n",
    "    soup = BeautifulSoup(site, \"lxml\", parse_only=strainer)\n",
    "    # fields = soup.find(class_='section-main')\n",
    "\n",
    "    # Loop through each row and column to create a list of cells\n",
    "    my_table = []\n",
    "    for row in soup.find_all(class_=\"list-group-item\"):\n",
    "        row_data = []\n",
    "        for cell in row.find_all(class_=\"list-field\"):\n",
    "            row_data.append(cell.text)\n",
    "        # If the row isn't empty, then create a dict of the row to create dataframe from\n",
    "        if row_data:\n",
    "            data_item = {\n",
    "                \"Place (Overall)\": row_data[0],\n",
    "                \"Place (Gender)\": row_data[1],\n",
    "                \"Place (Category)\": row_data[2],\n",
    "                \"Name\": row_data[3],\n",
    "                \"Sex\": sex,\n",
    "                \"Club\": row_data[4],\n",
    "                \"Running Number\": row_data[5],\n",
    "                \"Category\": row_data[6],\n",
    "                \"Finish\": row_data[9],\n",
    "                \"Year\": 2021,\n",
    "            }\n",
    "            my_table.append(data_item)\n",
    "    df = pd.DataFrame(my_table).iloc[1:]  # Strip table header\n",
    "\n",
    "    womens_results = womens_results.append(df)"
   ]
  },
  {
   "cell_type": "code",
   "execution_count": null,
   "metadata": {},
   "outputs": [],
   "source": [
    "# Concatenate results\n",
    "results = pd.concat([mens_results, womens_results])"
   ]
  },
  {
   "cell_type": "code",
   "execution_count": null,
   "metadata": {},
   "outputs": [],
   "source": [
    "results"
   ]
  },
  {
   "cell_type": "code",
   "execution_count": null,
   "metadata": {},
   "outputs": [],
   "source": [
    "# Some quick data cleaning\n",
    "# Remove leftover titles\n",
    "results[\"Club\"] = results[\"Club\"].str.replace(\"Club\", \"\", regex=False)\n",
    "results[\"Running Number\"] = results[\"Running Number\"].str.replace(\n",
    "    \"Running Number\", \"\", regex=False\n",
    ")\n",
    "results[\"Category\"] = results[\"Category\"].str.replace(\"Category\", \"\", regex=False)\n",
    "results[\"Finish\"] = results[\"Finish\"].str.replace(\"Finish\", \"\", regex=False)\n",
    "\n",
    "# Extract country groups, like (USA), from Name group\n",
    "results[\"Country\"] = results[\"Name\"].str.extract(r\"(\\([A-Z]{3,}\\))\")\n",
    "# Remove brackets in country\n",
    "results[\"Country\"] = results[\"Country\"].str.replace(r\"\\(|\\)\", \"\", regex=True)\n",
    "# Remove country group from name column\n",
    "results[\"Name\"] = results[\"Name\"].str.replace(r\"(\\([A-Z]{3}\\))\", \"\", regex=True)\n",
    "\n",
    "# Split first/lastname into new columns\n",
    "LastFirst = results[\"Name\"].str.split(pat=\",\", n=1, expand=True)\n",
    "results[\"FirstName\"], results[\"LastName\"] = LastFirst[1], LastFirst[0]\n",
    "# Remove comma from Name column, so that this can be saved as a CSV ----- Must happen after splitting Name into two cols!!\n",
    "results[\"Name\"] = results[\"Name\"].str.replace(r\"(\\,)\", \"\", regex=True)\n",
    "# Replace non-standard '–' with NaN for missing vals\n",
    "results = results.replace(\"–\", np.nan)\n",
    "results = results.replace(\"DSQ\", np.nan)\n",
    "results = results.replace(\"\", np.nan)\n",
    "\n",
    "# Delete odd race number row - table description not actual data\n",
    "results = results.loc[\n",
    "    (results[\"Running Number\"] != \"RM9999\") & (results[\"Running Number\"] != \"RF9999\")\n",
    "]\n",
    "\n",
    "# Set data types\n",
    "results = results.astype(\n",
    "    {\n",
    "        \"Place (Overall)\": \"float64\",\n",
    "        \"Place (Gender)\": \"float64\",\n",
    "        \"Place (Category)\": \"float64\",\n",
    "        \"Name\": str,\n",
    "        \"Sex\": str,\n",
    "        \"Club\": str,\n",
    "        \"Running Number\": str,\n",
    "        \"Category\": \"category\",\n",
    "        \"Country\": str,\n",
    "        \"FirstName\": str,\n",
    "        \"LastName\": str,\n",
    "    }\n",
    ")\n",
    "# Due to an irritating bug with converting objects to Int64, needed to first convert to float and then to int\n",
    "results = results.astype(\n",
    "    {\"Place (Overall)\": \"Int64\", \"Place (Gender)\": \"Int64\", \"Place (Category)\": \"Int64\"}\n",
    ")\n",
    "results[\"Finish\"] = pd.to_timedelta(results[\"Finish\"])\n",
    "results[\"Finish (Total Seconds)\"] = results[\"Finish\"].dt.total_seconds()"
   ]
  },
  {
   "cell_type": "code",
   "execution_count": null,
   "metadata": {},
   "outputs": [],
   "source": [
    "results.info()"
   ]
  },
  {
   "cell_type": "code",
   "execution_count": null,
   "metadata": {},
   "outputs": [],
   "source": [
    "# And quickly save them in a csv\n",
    "results.to_csv(\n",
    "    r\"./London_2021.csv\",\n",
    "    index=False,\n",
    "    header=True,\n",
    ")"
   ]
  }
 ],
 "metadata": {
  "interpreter": {
   "hash": "7066cef1d7b62ffc722d6877e550577afe0b7e695d3a28edb32490df119cb323"
  },
  "kernelspec": {
   "display_name": "Python 3.8.12 64-bit ('scrape_london_marathon': conda)",
   "name": "python3"
  },
  "language_info": {
   "codemirror_mode": {
    "name": "ipython",
    "version": 3
   },
   "file_extension": ".py",
   "mimetype": "text/x-python",
   "name": "python",
   "nbconvert_exporter": "python",
   "pygments_lexer": "ipython3",
   "version": "3.8.12"
  }
 },
 "nbformat": 4,
 "nbformat_minor": 4
}

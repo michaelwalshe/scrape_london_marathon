{
 "cells": [
  {
   "cell_type": "code",
   "execution_count": 20,
   "metadata": {},
   "outputs": [],
   "source": [
    "import sys\n",
    "\n",
    "import pandas as pd\n",
    "from numpy import dtype\n",
    "from pandas import Int64Dtype, CategoricalDtype\n",
    "\n",
    "sys.path.extend([\"..\", \".\"])"
   ]
  },
  {
   "cell_type": "code",
   "execution_count": null,
   "metadata": {},
   "outputs": [],
   "source": [
    "results = pd.read_csv(\n",
    "    \"../data/london_marathon_latest.csv\",\n",
    "    dtype={\n",
    "        \"Place (Overall)\": \"Int64\",\n",
    "        \"Place (Gender)\": \"Int64\",\n",
    "        \"Name\": str,\n",
    "        \"Sex\": str,\n",
    "        \"Club\": str,\n",
    "        \"Running Number\": object,\n",
    "        \"Category\": \"category\",\n",
    "        \"Year\": \"Int64\",\n",
    "        \"Country\": str,\n",
    "        \"FirstName\": str,\n",
    "        \"LastName\": str,\n",
    "        \"DSQ\": bool,\n",
    "        \"Finish (Total Seconds)\": \"float64\",\n",
    "    },\n",
    "    parse_dates=[\"Finish\"],\n",
    ")\n",
    "\n",
    "results[\"Finish\"] = pd.to_timedelta(results[\"Finish\"])"
   ]
  },
  {
   "cell_type": "code",
   "execution_count": 26,
   "metadata": {},
   "outputs": [
    {
     "data": {
      "text/plain": [
       "['M']"
      ]
     },
     "execution_count": 26,
     "metadata": {},
     "output_type": "execute_result"
    }
   ],
   "source": [
    "results[\"Sex\"].unique().tolist()"
   ]
  }
 ],
 "metadata": {
  "interpreter": {
   "hash": "7066cef1d7b62ffc722d6877e550577afe0b7e695d3a28edb32490df119cb323"
  },
  "kernelspec": {
   "display_name": "Python 3.8.12 64-bit ('scrape_london_marathon': conda)",
   "name": "python3"
  },
  "language_info": {
   "codemirror_mode": {
    "name": "ipython",
    "version": 3
   },
   "file_extension": ".py",
   "mimetype": "text/x-python",
   "name": "python",
   "nbconvert_exporter": "python",
   "pygments_lexer": "ipython3",
   "version": "3.8.12"
  },
  "orig_nbformat": 4
 },
 "nbformat": 4,
 "nbformat_minor": 2
}

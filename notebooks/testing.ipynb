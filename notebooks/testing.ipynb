{
 "cells": [
  {
   "cell_type": "code",
   "execution_count": 3,
   "metadata": {},
   "outputs": [],
   "source": [
    "import sys\n",
    "import io\n",
    "\n",
    "import pandas as pd\n",
    "from numpy import dtype\n",
    "from pandas import Int64Dtype, CategoricalDtype\n",
    "\n",
    "\n",
    "sys.path.extend([\"..\", \".\"])\n",
    "from src import london_scraper, london_cleaner"
   ]
  },
  {
   "cell_type": "code",
   "execution_count": 4,
   "metadata": {},
   "outputs": [],
   "source": [
    "results = pd.read_csv(\n",
    "    \"../data/london_marathon_latest.csv\",\n",
    "    dtype={\n",
    "        \"Place (Overall)\": \"Int64\",\n",
    "        \"Place (Gender)\": \"Int64\",\n",
    "        \"Name\": str,\n",
    "        \"Sex\": str,\n",
    "        \"Club\": str,\n",
    "        \"Running Number\": object,\n",
    "        \"Category\": \"category\",\n",
    "        \"Year\": \"Int64\",\n",
    "        \"Country\": str,\n",
    "        \"FirstName\": str,\n",
    "        \"LastName\": str,\n",
    "        \"DSQ\": bool,\n",
    "        \"Finish (Total Seconds)\": \"float64\",\n",
    "    },\n",
    "    parse_dates=[\"Finish\"],\n",
    ")\n",
    "\n",
    "results[\"Finish\"] = pd.to_timedelta(results[\"Finish\"])"
   ]
  },
  {
   "cell_type": "code",
   "execution_count": null,
   "metadata": {},
   "outputs": [],
   "source": [
    "import importlib\n",
    "\n",
    "importlib.reload(london_scraper)"
   ]
  },
  {
   "cell_type": "code",
   "execution_count": 5,
   "metadata": {},
   "outputs": [],
   "source": [
    "test = pd.read_csv(\n",
    "    io.StringIO(\n",
    "        \"\"\"\n",
    "Place (Overall),Place (Gender),Place (Category),Name,Sex,Club,Running Number,Category,Finish,Year,Country,FirstName,LastName,Finish (Total Seconds)\n",
    "12547,9390,4345,A Smith Matthew ,M,nan,Runner Number40546,18-39,0 days 03:59:33,2021,GBR, Matthew ,A Smith,14373.0\n",
    "34146,20833,3132,Aalders Steven ,M,nan,Runner Number23235,45-49,0 days 06:22:20,2021,GBR, Steven ,Aalders,22940.0\n",
    "\"\"\"\n",
    "    )\n",
    ")"
   ]
  },
  {
   "cell_type": "code",
   "execution_count": 7,
   "metadata": {},
   "outputs": [
    {
     "data": {
      "text/plain": [
       "{'Place (Overall)': [12547, 34146],\n",
       " 'Place (Gender)': [9390, 20833],\n",
       " 'Place (Category)': [4345, 3132],\n",
       " 'Name': ['A Smith Matthew ', 'Aalders Steven '],\n",
       " 'Sex': ['M', 'M'],\n",
       " 'Club': [nan, nan],\n",
       " 'Running Number': ['Runner Number40546', 'Runner Number23235'],\n",
       " 'Category': ['18-39', '45-49'],\n",
       " 'Finish': ['0 days 03:59:33', '0 days 06:22:20'],\n",
       " 'Year': [2021, 2021],\n",
       " 'Country': ['GBR', 'GBR'],\n",
       " 'FirstName': [' Matthew ', ' Steven '],\n",
       " 'LastName': ['A Smith', 'Aalders'],\n",
       " 'Finish (Total Seconds)': [14373.0, 22940.0]}"
      ]
     },
     "execution_count": 7,
     "metadata": {},
     "output_type": "execute_result"
    }
   ],
   "source": [
    "test.to_dict(orient=\"list\")"
   ]
  },
  {
   "cell_type": "code",
   "execution_count": null,
   "metadata": {},
   "outputs": [],
   "source": [
    "sample_url = (\n",
    "    \"https://results.virginmoneylondonmarathon.com/2018/?page=1&event=ALL&num_\"\n",
    "    \"results=25&pid=search&pidp=results_nav&search%5Bsex%5D=M&search%5Bage_c\"\n",
    "    \"lass%5D=%25&search%5Bnation%5D=%25&search_sort=place\"\n",
    ")"
   ]
  },
  {
   "cell_type": "code",
   "execution_count": null,
   "metadata": {},
   "outputs": [],
   "source": [
    "results = london_scraper.get_results_table(sample_url, \"M\", 2018)"
   ]
  },
  {
   "cell_type": "code",
   "execution_count": null,
   "metadata": {},
   "outputs": [],
   "source": [
    "results.to_dict(orient=\"list\")"
   ]
  },
  {
   "cell_type": "code",
   "execution_count": null,
   "metadata": {},
   "outputs": [],
   "source": [
    "results = london_cleaner.london_cleaner(results)"
   ]
  },
  {
   "cell_type": "code",
   "execution_count": null,
   "metadata": {},
   "outputs": [],
   "source": [
    "results.to_csv(\n",
    "    R\"C:\\Users\\michael.walshe\\Documents\\Python Projects\\scrape_london_marathon\\tests\\inputs\\london_2018_exp_output.csv\",\n",
    "    index=False,\n",
    ")"
   ]
  },
  {
   "cell_type": "code",
   "execution_count": null,
   "metadata": {},
   "outputs": [],
   "source": [
    "results = pd.read_csv()"
   ]
  }
 ],
 "metadata": {
  "interpreter": {
   "hash": "7066cef1d7b62ffc722d6877e550577afe0b7e695d3a28edb32490df119cb323"
  },
  "kernelspec": {
   "display_name": "Python 3.8.12 64-bit ('scrape_london_marathon': conda)",
   "name": "python3"
  },
  "language_info": {
   "codemirror_mode": {
    "name": "ipython",
    "version": 3
   },
   "file_extension": ".py",
   "mimetype": "text/x-python",
   "name": "python",
   "nbconvert_exporter": "python",
   "pygments_lexer": "ipython3",
   "version": "3.8.12"
  },
  "orig_nbformat": 4
 },
 "nbformat": 4,
 "nbformat_minor": 2
}

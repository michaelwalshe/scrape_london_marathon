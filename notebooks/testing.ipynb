{
 "cells": [
  {
   "cell_type": "code",
   "execution_count": 6,
   "metadata": {},
   "outputs": [],
   "source": [
    "import sys\n",
    "import io\n",
    "\n",
    "import pandas as pd\n",
    "from numpy import dtype\n",
    "from pandas import Int64Dtype, CategoricalDtype\n",
    "\n",
    "\n",
    "sys.path.extend([\"..\", \".\"])\n",
    "from src import london_scraper, london_cleaner"
   ]
  },
  {
   "cell_type": "code",
   "execution_count": 7,
   "metadata": {},
   "outputs": [],
   "source": [
    "results = pd.read_csv(\n",
    "    \"../data/london_marathon_latest.csv\",\n",
    "    dtype={\n",
    "        \"Place (Overall)\": \"Int64\",\n",
    "        \"Place (Gender)\": \"Int64\",\n",
    "        \"Place (Category)\": \"Int64\",\n",
    "        \"Name\": str,\n",
    "        \"Sex\": str,\n",
    "        \"Club\": str,\n",
    "        \"Running Number\": object,\n",
    "        \"Category\": \"category\",\n",
    "        \"Year\": \"Int64\",\n",
    "        \"Country\": str,\n",
    "        \"FirstName\": str,\n",
    "        \"LastName\": str,\n",
    "        \"DSQ\": bool,\n",
    "        \"Finish (Total Seconds)\": \"float64\",\n",
    "    },\n",
    "    parse_dates=[\"Finish\"],\n",
    ")\n",
    "\n",
    "results[\"Finish\"] = pd.to_timedelta(results[\"Finish\"])"
   ]
  },
  {
   "cell_type": "code",
   "execution_count": 10,
   "metadata": {},
   "outputs": [],
   "source": [
    "results[\"Finish\"] = results[\"Finish\"].astype(str)\n",
    "results.to_parquet(\"../data/london_marathon_latest.parquet\")"
   ]
  },
  {
   "cell_type": "code",
   "execution_count": 11,
   "metadata": {},
   "outputs": [],
   "source": [
    "results2 =pd.read_parquet(\"../data/london_marathon_latest.parquet\")"
   ]
  },
  {
   "cell_type": "code",
   "execution_count": 13,
   "metadata": {},
   "outputs": [
    {
     "name": "stdout",
     "output_type": "stream",
     "text": [
      "<class 'pandas.core.frame.DataFrame'>\n",
      "RangeIndex: 388548 entries, 0 to 388547\n",
      "Data columns (total 15 columns):\n",
      " #   Column                  Non-Null Count   Dtype   \n",
      "---  ------                  --------------   -----   \n",
      " 0   Place (Overall)         376063 non-null  Int64   \n",
      " 1   Place (Gender)          376063 non-null  Int64   \n",
      " 2   Place (Category)        375891 non-null  float64 \n",
      " 3   Name                    388548 non-null  object  \n",
      " 4   Sex                     388548 non-null  object  \n",
      " 5   Club                    87447 non-null   object  \n",
      " 6   Running Number          388522 non-null  object  \n",
      " 7   Category                388372 non-null  category\n",
      " 8   Finish                  388548 non-null  object  \n",
      " 9   Year                    388548 non-null  Int64   \n",
      " 10  Country                 387033 non-null  object  \n",
      " 11  FirstName               388532 non-null  object  \n",
      " 12  LastName                388545 non-null  object  \n",
      " 13  DSQ                     388548 non-null  bool    \n",
      " 14  Finish (Total Seconds)  376063 non-null  float64 \n",
      "dtypes: Int64(3), bool(1), category(1), float64(2), object(8)\n",
      "memory usage: 40.4+ MB\n"
     ]
    }
   ],
   "source": [
    "results.info()"
   ]
  },
  {
   "cell_type": "code",
   "execution_count": null,
   "metadata": {},
   "outputs": [],
   "source": [
    "import importlib\n",
    "\n",
    "importlib.reload(london_scraper)"
   ]
  },
  {
   "cell_type": "code",
   "execution_count": null,
   "metadata": {},
   "outputs": [],
   "source": [
    "test = pd.read_csv(\n",
    "    io.StringIO(\n",
    "        \"\"\"\n",
    "Place (Overall),Place (Gender),Place (Category),Name,Sex,Club,Running Number,Category,Finish,Year,Country,FirstName,LastName,Finish (Total Seconds)\n",
    "12547,9390,4345,A Smith Matthew ,M,nan,Runner Number40546,18-39,0 days 03:59:33,2021,GBR, Matthew ,A Smith,14373.0\n",
    "34146,20833,3132,Aalders Steven ,M,nan,Runner Number23235,45-49,0 days 06:22:20,2021,GBR, Steven ,Aalders,22940.0\n",
    "\"\"\"\n",
    "    )\n",
    ")"
   ]
  },
  {
   "cell_type": "code",
   "execution_count": null,
   "metadata": {},
   "outputs": [],
   "source": [
    "test.to_dict(orient=\"list\")"
   ]
  },
  {
   "cell_type": "code",
   "execution_count": null,
   "metadata": {},
   "outputs": [],
   "source": [
    "sample_url = (\n",
    "    \"https://results.virginmoneylondonmarathon.com/2018/?page=1&event=ALL&num_\"\n",
    "    \"results=25&pid=search&pidp=results_nav&search%5Bsex%5D=M&search%5Bage_c\"\n",
    "    \"lass%5D=%25&search%5Bnation%5D=%25&search_sort=place\"\n",
    ")"
   ]
  },
  {
   "cell_type": "code",
   "execution_count": null,
   "metadata": {},
   "outputs": [],
   "source": [
    "results = london_scraper.get_results_table(sample_url, \"M\", 2018)"
   ]
  },
  {
   "cell_type": "code",
   "execution_count": null,
   "metadata": {},
   "outputs": [],
   "source": [
    "results.to_dict(orient=\"list\")"
   ]
  },
  {
   "cell_type": "code",
   "execution_count": null,
   "metadata": {},
   "outputs": [],
   "source": [
    "results = london_cleaner.london_cleaner(results)"
   ]
  },
  {
   "cell_type": "code",
   "execution_count": null,
   "metadata": {},
   "outputs": [],
   "source": [
    "results.to_csv(\n",
    "    R\"C:\\Users\\michael.walshe\\Documents\\Python Projects\\scrape_london_marathon\\tests\\inputs\\london_2018_exp_output.csv\",\n",
    "    index=False,\n",
    ")"
   ]
  },
  {
   "cell_type": "code",
   "execution_count": null,
   "metadata": {},
   "outputs": [],
   "source": [
    "results = results = pd.read_csv(\n",
    "    \"../data/london_marathon_latest.csv\",\n",
    "    dtype={\n",
    "        \"Place (Overall)\": \"Int64\",\n",
    "        \"Place (Gender)\": \"Int64\",\n",
    "        \"Name\": str,\n",
    "        \"Sex\": str,\n",
    "        \"Club\": str,\n",
    "        \"Running Number\": object,\n",
    "        \"Category\": \"category\",\n",
    "        \"Year\": \"Int64\",\n",
    "        \"Country\": str,\n",
    "        \"FirstName\": str,\n",
    "        \"LastName\": str,\n",
    "        \"DSQ\": bool,\n",
    "        \"Finish (Total Seconds)\": \"float64\",\n",
    "    },\n",
    "    parse_dates=[\"Finish\"],\n",
    ")\n",
    "\n",
    "results[\"Finish\"] = pd.to_timedelta(results[\"Finish\"])"
   ]
  },
  {
   "cell_type": "code",
   "execution_count": null,
   "metadata": {},
   "outputs": [],
   "source": [
    "results = results.loc[results['Year'] == 2021]"
   ]
  },
  {
   "cell_type": "code",
   "execution_count": null,
   "metadata": {},
   "outputs": [],
   "source": [
    "results"
   ]
  },
  {
   "cell_type": "code",
   "execution_count": null,
   "metadata": {},
   "outputs": [],
   "source": [
    "results.to_csv('../data/london_2021.csv', index=False)"
   ]
  }
 ],
 "metadata": {
  "interpreter": {
   "hash": "7066cef1d7b62ffc722d6877e550577afe0b7e695d3a28edb32490df119cb323"
  },
  "kernelspec": {
   "display_name": "Python 3.8.12 64-bit ('scrape_london_marathon': conda)",
   "name": "python3"
  },
  "language_info": {
   "codemirror_mode": {
    "name": "ipython",
    "version": 3
   },
   "file_extension": ".py",
   "mimetype": "text/x-python",
   "name": "python",
   "nbconvert_exporter": "python",
   "pygments_lexer": "ipython3",
   "version": "3.8.12"
  },
  "orig_nbformat": 4
 },
 "nbformat": 4,
 "nbformat_minor": 2
}
